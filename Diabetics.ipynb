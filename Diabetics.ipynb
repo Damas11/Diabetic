{
 "cells": [
  {
   "cell_type": "code",
   "execution_count": 14,
   "id": "8152c934",
   "metadata": {},
   "outputs": [],
   "source": [
    "import numpy as np\n",
    "import pandas as pd\n",
    "\n",
    "from sklearn.linear_model import LogisticRegression\n",
    "from sklearn.model_selection import train_test_split\n",
    "from sklearn.metrics import accuracy_score,confusion_matrix,r2_score,classification_report\n",
    "\n",
    "from sklearn.metrics import plot_confusion_matrix, roc_curve\n",
    "from sklearn.metrics import precision_score,f1_score, recall_score\n",
    "\n",
    "import matplotlib.pyplot as plt\n",
    "\n",
    "import seaborn as sns\n",
    "\n",
    "\n",
    "import warnings\n",
    "\n",
    "warnings.filterwarnings('ignore')"
   ]
  },
  {
   "cell_type": "code",
   "execution_count": 3,
   "id": "8010de7c",
   "metadata": {},
   "outputs": [
    {
     "data": {
      "text/html": [
       "<div>\n",
       "<style scoped>\n",
       "    .dataframe tbody tr th:only-of-type {\n",
       "        vertical-align: middle;\n",
       "    }\n",
       "\n",
       "    .dataframe tbody tr th {\n",
       "        vertical-align: top;\n",
       "    }\n",
       "\n",
       "    .dataframe thead th {\n",
       "        text-align: right;\n",
       "    }\n",
       "</style>\n",
       "<table border=\"1\" class=\"dataframe\">\n",
       "  <thead>\n",
       "    <tr style=\"text-align: right;\">\n",
       "      <th></th>\n",
       "      <th>Glucose</th>\n",
       "      <th>BloodPressure</th>\n",
       "      <th>SkinThickness</th>\n",
       "      <th>Insulin</th>\n",
       "      <th>BMI</th>\n",
       "      <th>DiabetesPedigreeFunction</th>\n",
       "      <th>Age</th>\n",
       "      <th>Outcome</th>\n",
       "    </tr>\n",
       "  </thead>\n",
       "  <tbody>\n",
       "    <tr>\n",
       "      <th>0</th>\n",
       "      <td>148</td>\n",
       "      <td>50</td>\n",
       "      <td>35</td>\n",
       "      <td>0</td>\n",
       "      <td>33.6</td>\n",
       "      <td>0.627</td>\n",
       "      <td>50</td>\n",
       "      <td>1</td>\n",
       "    </tr>\n",
       "    <tr>\n",
       "      <th>1</th>\n",
       "      <td>85</td>\n",
       "      <td>66</td>\n",
       "      <td>29</td>\n",
       "      <td>0</td>\n",
       "      <td>26.6</td>\n",
       "      <td>0.351</td>\n",
       "      <td>31</td>\n",
       "      <td>0</td>\n",
       "    </tr>\n",
       "    <tr>\n",
       "      <th>2</th>\n",
       "      <td>183</td>\n",
       "      <td>64</td>\n",
       "      <td>0</td>\n",
       "      <td>0</td>\n",
       "      <td>23.3</td>\n",
       "      <td>0.672</td>\n",
       "      <td>52</td>\n",
       "      <td>1</td>\n",
       "    </tr>\n",
       "    <tr>\n",
       "      <th>3</th>\n",
       "      <td>150</td>\n",
       "      <td>66</td>\n",
       "      <td>23</td>\n",
       "      <td>94</td>\n",
       "      <td>28.1</td>\n",
       "      <td>0.167</td>\n",
       "      <td>21</td>\n",
       "      <td>0</td>\n",
       "    </tr>\n",
       "    <tr>\n",
       "      <th>4</th>\n",
       "      <td>150</td>\n",
       "      <td>40</td>\n",
       "      <td>35</td>\n",
       "      <td>168</td>\n",
       "      <td>43.1</td>\n",
       "      <td>2.288</td>\n",
       "      <td>33</td>\n",
       "      <td>1</td>\n",
       "    </tr>\n",
       "    <tr>\n",
       "      <th>...</th>\n",
       "      <td>...</td>\n",
       "      <td>...</td>\n",
       "      <td>...</td>\n",
       "      <td>...</td>\n",
       "      <td>...</td>\n",
       "      <td>...</td>\n",
       "      <td>...</td>\n",
       "      <td>...</td>\n",
       "    </tr>\n",
       "    <tr>\n",
       "      <th>763</th>\n",
       "      <td>101</td>\n",
       "      <td>76</td>\n",
       "      <td>48</td>\n",
       "      <td>180</td>\n",
       "      <td>32.9</td>\n",
       "      <td>0.171</td>\n",
       "      <td>63</td>\n",
       "      <td>0</td>\n",
       "    </tr>\n",
       "    <tr>\n",
       "      <th>764</th>\n",
       "      <td>122</td>\n",
       "      <td>70</td>\n",
       "      <td>27</td>\n",
       "      <td>0</td>\n",
       "      <td>36.8</td>\n",
       "      <td>0.340</td>\n",
       "      <td>27</td>\n",
       "      <td>0</td>\n",
       "    </tr>\n",
       "    <tr>\n",
       "      <th>765</th>\n",
       "      <td>121</td>\n",
       "      <td>72</td>\n",
       "      <td>23</td>\n",
       "      <td>112</td>\n",
       "      <td>26.2</td>\n",
       "      <td>0.245</td>\n",
       "      <td>30</td>\n",
       "      <td>0</td>\n",
       "    </tr>\n",
       "    <tr>\n",
       "      <th>766</th>\n",
       "      <td>126</td>\n",
       "      <td>60</td>\n",
       "      <td>0</td>\n",
       "      <td>0</td>\n",
       "      <td>30.1</td>\n",
       "      <td>0.349</td>\n",
       "      <td>47</td>\n",
       "      <td>1</td>\n",
       "    </tr>\n",
       "    <tr>\n",
       "      <th>767</th>\n",
       "      <td>93</td>\n",
       "      <td>70</td>\n",
       "      <td>31</td>\n",
       "      <td>0</td>\n",
       "      <td>30.4</td>\n",
       "      <td>0.315</td>\n",
       "      <td>23</td>\n",
       "      <td>0</td>\n",
       "    </tr>\n",
       "  </tbody>\n",
       "</table>\n",
       "<p>768 rows × 8 columns</p>\n",
       "</div>"
      ],
      "text/plain": [
       "     Glucose  BloodPressure  SkinThickness  Insulin   BMI  \\\n",
       "0        148             50             35        0  33.6   \n",
       "1         85             66             29        0  26.6   \n",
       "2        183             64              0        0  23.3   \n",
       "3        150             66             23       94  28.1   \n",
       "4        150             40             35      168  43.1   \n",
       "..       ...            ...            ...      ...   ...   \n",
       "763      101             76             48      180  32.9   \n",
       "764      122             70             27        0  36.8   \n",
       "765      121             72             23      112  26.2   \n",
       "766      126             60              0        0  30.1   \n",
       "767       93             70             31        0  30.4   \n",
       "\n",
       "     DiabetesPedigreeFunction  Age  Outcome  \n",
       "0                       0.627   50        1  \n",
       "1                       0.351   31        0  \n",
       "2                       0.672   52        1  \n",
       "3                       0.167   21        0  \n",
       "4                       2.288   33        1  \n",
       "..                        ...  ...      ...  \n",
       "763                     0.171   63        0  \n",
       "764                     0.340   27        0  \n",
       "765                     0.245   30        0  \n",
       "766                     0.349   47        1  \n",
       "767                     0.315   23        0  \n",
       "\n",
       "[768 rows x 8 columns]"
      ]
     },
     "execution_count": 3,
     "metadata": {},
     "output_type": "execute_result"
    }
   ],
   "source": [
    "df=pd.read_csv('diabetes.csv')\n",
    "df"
   ]
  },
  {
   "cell_type": "code",
   "execution_count": 4,
   "id": "94122e86",
   "metadata": {},
   "outputs": [
    {
     "name": "stdout",
     "output_type": "stream",
     "text": [
      "<class 'pandas.core.frame.DataFrame'>\n",
      "RangeIndex: 768 entries, 0 to 767\n",
      "Data columns (total 8 columns):\n",
      " #   Column                    Non-Null Count  Dtype  \n",
      "---  ------                    --------------  -----  \n",
      " 0   Glucose                   768 non-null    int64  \n",
      " 1   BloodPressure             768 non-null    int64  \n",
      " 2   SkinThickness             768 non-null    int64  \n",
      " 3   Insulin                   768 non-null    int64  \n",
      " 4   BMI                       768 non-null    float64\n",
      " 5   DiabetesPedigreeFunction  768 non-null    float64\n",
      " 6   Age                       768 non-null    int64  \n",
      " 7   Outcome                   768 non-null    int64  \n",
      "dtypes: float64(2), int64(6)\n",
      "memory usage: 48.1 KB\n"
     ]
    }
   ],
   "source": [
    "df.info()"
   ]
  },
  {
   "cell_type": "code",
   "execution_count": 5,
   "id": "490c5194",
   "metadata": {},
   "outputs": [
    {
     "data": {
      "text/plain": [
       "0    500\n",
       "1    268\n",
       "Name: Outcome, dtype: int64"
      ]
     },
     "execution_count": 5,
     "metadata": {},
     "output_type": "execute_result"
    }
   ],
   "source": [
    "df['Outcome'].value_counts()"
   ]
  },
  {
   "cell_type": "code",
   "execution_count": 6,
   "id": "436c75c1",
   "metadata": {},
   "outputs": [
    {
     "data": {
      "text/plain": [
       "<AxesSubplot:xlabel='Outcome', ylabel='count'>"
      ]
     },
     "execution_count": 6,
     "metadata": {},
     "output_type": "execute_result"
    },
    {
     "data": {
      "image/png": "[encoded data removed]",
      "text/plain": [
       "<Figure size 432x288 with 1 Axes>"
      ]
     },
     "metadata": {
      "needs_background": "light"
     },
     "output_type": "display_data"
    }
   ],
   "source": [
    "sns.countplot(x=df['Outcome'])"
   ]
  },
  {
   "cell_type": "code",
   "execution_count": 7,
   "id": "c1cead48",
   "metadata": {},
   "outputs": [],
   "source": [
    "x=df.drop('Outcome',axis=1)\n",
    "y=df['Outcome']\n",
    "\n",
    "x_train,x_test,y_train,y_test=train_test_split(x,y,test_size=0.2,random_state=11,stratify=y)"
   ]
  },
  {
   "cell_type": "code",
   "execution_count": 8,
   "id": "d7798f4f",
   "metadata": {},
   "outputs": [
    {
     "data": {
      "text/plain": [
       "LogisticRegression()"
      ]
     },
     "execution_count": 8,
     "metadata": {},
     "output_type": "execute_result"
    }
   ],
   "source": [
    "Logistic_model=LogisticRegression()\n",
    "Logistic_model.fit(x_train,y_train)"
   ]
  },
  {
   "cell_type": "code",
   "execution_count": 9,
   "id": "ed9444c4",
   "metadata": {},
   "outputs": [
    {
     "data": {
      "text/plain": [
       "<sklearn.metrics._plot.confusion_matrix.ConfusionMatrixDisplay at 0x1d06aab20a0>"
      ]
     },
     "execution_count": 9,
     "metadata": {},
     "output_type": "execute_result"
    },
    {
     "data": {
      "image/png": "[encoded data removed]",
      "text/plain": [
       "<Figure size 432x288 with 2 Axes>"
      ]
     },
     "metadata": {
      "needs_background": "light"
     },
     "output_type": "display_data"
    }
   ],
   "source": [
    "plot_confusion_matrix(Logistic_model,x_train,y_train)"
   ]
  },
  {
   "cell_type": "code",
   "execution_count": 10,
   "id": "65207f0b",
   "metadata": {},
   "outputs": [
    {
     "data": {
      "text/plain": [
       "<sklearn.metrics._plot.confusion_matrix.ConfusionMatrixDisplay at 0x1d06aab2ac0>"
      ]
     },
     "execution_count": 10,
     "metadata": {},
     "output_type": "execute_result"
    },
    {
     "data": {
      "image/png": "[encoded data removed]",
      "text/plain": [
       "<Figure size 432x288 with 2 Axes>"
      ]
     },
     "metadata": {
      "needs_background": "light"
     },
     "output_type": "display_data"
    }
   ],
   "source": [
    "plot_confusion_matrix(Logistic_model,x_test,y_test)"
   ]
  },
  {
   "cell_type": "code",
   "execution_count": 15,
   "id": "ffa247db",
   "metadata": {},
   "outputs": [
    {
     "name": "stdout",
     "output_type": "stream",
     "text": [
      "Confusion Matrix: \n",
      " [[89 11]\n",
      " [23 31]]\n",
      "**************************************************\n",
      "Accuracy Score: \n",
      " 0.7792207792207793\n",
      "**************************************************\n",
      "Classification Report: \n",
      "               precision    recall  f1-score   support\n",
      "\n",
      "           0       0.79      0.89      0.84       100\n",
      "           1       0.74      0.57      0.65        54\n",
      "\n",
      "    accuracy                           0.78       154\n",
      "   macro avg       0.77      0.73      0.74       154\n",
      "weighted avg       0.77      0.78      0.77       154\n",
      "\n"
     ]
    }
   ],
   "source": [
    "y_pred=Logistic_model.predict(x_test)\n",
    "\n",
    "cnf_matrix=confusion_matrix(y_test,y_pred)\n",
    "print(\"Confusion Matrix: \\n\",cnf_matrix)\n",
    "print(\"*\"*50)\n",
    "\n",
    "accuracy=accuracy_score(y_test,y_pred)\n",
    "print(\"Accuracy Score: \\n\",accuracy)\n",
    "print(\"*\"*50)\n",
    "\n",
    "clf_report=classification_report(y_test,y_pred)\n",
    "print(\"Classification Report: \\n\",clf_report)"
   ]
  },
  {
   "cell_type": "code",
   "execution_count": 17,
   "id": "5f5529e3",
   "metadata": {},
   "outputs": [
    {
     "data": {
      "text/plain": [
       "array([1, 0, 1, 1, 0, 0, 0, 1, 1, 1, 0, 1, 0, 0, 0, 1, 1, 1, 0, 1, 0, 0,\n",
       "       0, 0, 0, 0, 0, 0, 0, 0, 0, 1, 0, 0, 1, 0, 0, 0, 0, 0, 0, 0, 1, 0,\n",
       "       0, 1, 0, 1, 0, 0, 0, 0, 0, 0, 0, 0, 0, 0, 1, 0, 0, 0, 0, 1, 0, 0,\n",
       "       0, 0, 0, 0, 0, 0, 0, 1, 0, 0, 0, 1, 0, 1, 0, 0, 0, 0, 1, 0, 0, 0,\n",
       "       1, 0, 0, 0, 1, 0, 1, 1, 1, 1, 1, 0, 0, 0, 0, 0, 1, 0, 0, 0, 1, 0,\n",
       "       0, 0, 1, 0, 0, 0, 0, 1, 0, 1, 0, 1, 1, 0, 1, 0, 0, 1, 1, 1, 0, 0,\n",
       "       0, 0, 0, 0, 0, 1, 0, 0, 0, 0, 0, 0, 0, 0, 1, 0, 0, 0, 0, 0, 0, 0],\n",
       "      dtype=int64)"
      ]
     },
     "execution_count": 17,
     "metadata": {},
     "output_type": "execute_result"
    }
   ],
   "source": [
    "y_pred=Logistic_model.predict(x_test)\n",
    "y_pred"
   ]
  },
  {
   "cell_type": "code",
   "execution_count": 19,
   "id": "b7ba93f5",
   "metadata": {},
   "outputs": [
    {
     "data": {
      "text/plain": [
       "array([[0.0089725 , 0.9910275 ],\n",
       "       [0.72166295, 0.27833705],\n",
       "       [0.21071447, 0.78928553],\n",
       "       [0.33702086, 0.66297914],\n",
       "       [0.88625751, 0.11374249],\n",
       "       [0.51569979, 0.48430021],\n",
       "       [0.93540286, 0.06459714],\n",
       "       [0.03960474, 0.96039526],\n",
       "       [0.25220508, 0.74779492],\n",
       "       [0.20888029, 0.79111971],\n",
       "       [0.95407973, 0.04592027],\n",
       "       [0.47396117, 0.52603883],\n",
       "       [0.63388089, 0.36611911],\n",
       "       [0.71873844, 0.28126156],\n",
       "       [0.78942059, 0.21057941],\n",
       "       [0.204622  , 0.795378  ],\n",
       "       [0.25156283, 0.74843717],\n",
       "       [0.16004156, 0.83995844],\n",
       "       [0.52802433, 0.47197567],\n",
       "       [0.47594599, 0.52405401],\n",
       "       [0.93293244, 0.06706756],\n",
       "       [0.94350711, 0.05649289],\n",
       "       [0.67364461, 0.32635539],\n",
       "       [0.71112165, 0.28887835],\n",
       "       [0.77105916, 0.22894084],\n",
       "       [0.74732841, 0.25267159],\n",
       "       [0.53524304, 0.46475696],\n",
       "       [0.72689767, 0.27310233],\n",
       "       [0.65648595, 0.34351405],\n",
       "       [0.91947538, 0.08052462],\n",
       "       [0.65525477, 0.34474523],\n",
       "       [0.19985762, 0.80014238],\n",
       "       [0.89339504, 0.10660496],\n",
       "       [0.7002286 , 0.2997714 ],\n",
       "       [0.36216583, 0.63783417],\n",
       "       [0.51702314, 0.48297686],\n",
       "       [0.72583598, 0.27416402],\n",
       "       [0.61933396, 0.38066604],\n",
       "       [0.95894648, 0.04105352],\n",
       "       [0.65694321, 0.34305679],\n",
       "       [0.91334929, 0.08665071],\n",
       "       [0.59957728, 0.40042272],\n",
       "       [0.1575171 , 0.8424829 ],\n",
       "       [0.82383447, 0.17616553],\n",
       "       [0.71032813, 0.28967187],\n",
       "       [0.43650508, 0.56349492],\n",
       "       [0.82988424, 0.17011576],\n",
       "       [0.48412469, 0.51587531],\n",
       "       [0.92102909, 0.07897091],\n",
       "       [0.98605452, 0.01394548],\n",
       "       [0.93615033, 0.06384967],\n",
       "       [0.83579716, 0.16420284],\n",
       "       [0.9971221 , 0.0028779 ],\n",
       "       [0.7781087 , 0.2218913 ],\n",
       "       [0.9909041 , 0.0090959 ],\n",
       "       [0.63954219, 0.36045781],\n",
       "       [0.77620074, 0.22379926],\n",
       "       [0.89074463, 0.10925537],\n",
       "       [0.29310973, 0.70689027],\n",
       "       [0.95237613, 0.04762387],\n",
       "       [0.57975942, 0.42024058],\n",
       "       [0.54451076, 0.45548924],\n",
       "       [0.95233424, 0.04766576],\n",
       "       [0.12414155, 0.87585845],\n",
       "       [0.93413693, 0.06586307],\n",
       "       [0.88558123, 0.11441877],\n",
       "       [0.88023906, 0.11976094],\n",
       "       [0.88631119, 0.11368881],\n",
       "       [0.71499476, 0.28500524],\n",
       "       [0.8697228 , 0.1302772 ],\n",
       "       [0.54460337, 0.45539663],\n",
       "       [0.86048944, 0.13951056],\n",
       "       [0.61715219, 0.38284781],\n",
       "       [0.09223194, 0.90776806],\n",
       "       [0.89612497, 0.10387503],\n",
       "       [0.52426543, 0.47573457],\n",
       "       [0.56476433, 0.43523567],\n",
       "       [0.25066036, 0.74933964],\n",
       "       [0.82180033, 0.17819967],\n",
       "       [0.06852058, 0.93147942],\n",
       "       [0.79877162, 0.20122838],\n",
       "       [0.80470394, 0.19529606],\n",
       "       [0.9389036 , 0.0610964 ],\n",
       "       [0.8400471 , 0.1599529 ],\n",
       "       [0.21371213, 0.78628787],\n",
       "       [0.7082834 , 0.2917166 ],\n",
       "       [0.79547395, 0.20452605],\n",
       "       [0.85492868, 0.14507132],\n",
       "       [0.24646932, 0.75353068],\n",
       "       [0.51728952, 0.48271048],\n",
       "       [0.77106698, 0.22893302],\n",
       "       [0.85422725, 0.14577275],\n",
       "       [0.4314913 , 0.5685087 ],\n",
       "       [0.81191363, 0.18808637],\n",
       "       [0.43055393, 0.56944607],\n",
       "       [0.44861126, 0.55138874],\n",
       "       [0.42554463, 0.57445537],\n",
       "       [0.40914157, 0.59085843],\n",
       "       [0.46868739, 0.53131261],\n",
       "       [0.95796191, 0.04203809],\n",
       "       [0.94491229, 0.05508771],\n",
       "       [0.70338702, 0.29661298],\n",
       "       [0.78795285, 0.21204715],\n",
       "       [0.92457156, 0.07542844],\n",
       "       [0.08651387, 0.91348613],\n",
       "       [0.79128232, 0.20871768],\n",
       "       [0.72732532, 0.27267468],\n",
       "       [0.90346984, 0.09653016],\n",
       "       [0.45591576, 0.54408424],\n",
       "       [0.68322734, 0.31677266],\n",
       "       [0.97891232, 0.02108768],\n",
       "       [0.57083939, 0.42916061],\n",
       "       [0.20293603, 0.79706397],\n",
       "       [0.77230117, 0.22769883],\n",
       "       [0.85232358, 0.14767642],\n",
       "       [0.84681351, 0.15318649],\n",
       "       [0.72352895, 0.27647105],\n",
       "       [0.1792804 , 0.8207196 ],\n",
       "       [0.96193408, 0.03806592],\n",
       "       [0.36554648, 0.63445352],\n",
       "       [0.70115792, 0.29884208],\n",
       "       [0.41951064, 0.58048936],\n",
       "       [0.36066989, 0.63933011],\n",
       "       [0.6367731 , 0.3632269 ],\n",
       "       [0.34217158, 0.65782842],\n",
       "       [0.97121775, 0.02878225],\n",
       "       [0.94748638, 0.05251362],\n",
       "       [0.03976846, 0.96023154],\n",
       "       [0.18909536, 0.81090464],\n",
       "       [0.39200753, 0.60799247],\n",
       "       [0.87133921, 0.12866079],\n",
       "       [0.89440606, 0.10559394],\n",
       "       [0.80467429, 0.19532571],\n",
       "       [0.74827633, 0.25172367],\n",
       "       [0.6827257 , 0.3172743 ],\n",
       "       [0.86565582, 0.13434418],\n",
       "       [0.87789843, 0.12210157],\n",
       "       [0.34384654, 0.65615346],\n",
       "       [0.67075687, 0.32924313],\n",
       "       [0.86550418, 0.13449582],\n",
       "       [0.89681158, 0.10318842],\n",
       "       [0.73731316, 0.26268684],\n",
       "       [0.95259   , 0.04741   ],\n",
       "       [0.73213429, 0.26786571],\n",
       "       [0.64782377, 0.35217623],\n",
       "       [0.85749288, 0.14250712],\n",
       "       [0.36356909, 0.63643091],\n",
       "       [0.53928552, 0.46071448],\n",
       "       [0.85204349, 0.14795651],\n",
       "       [0.56080636, 0.43919364],\n",
       "       [0.9040897 , 0.0959103 ],\n",
       "       [0.53899488, 0.46100512],\n",
       "       [0.9232323 , 0.0767677 ],\n",
       "       [0.9225619 , 0.0774381 ]])"
      ]
     },
     "execution_count": 19,
     "metadata": {},
     "output_type": "execute_result"
    }
   ],
   "source": [
    "y_pred_prob=Logistic_model.predict_proba(x_test)\n",
    "y_pred_prob"
   ]
  },
  {
   "cell_type": "code",
   "execution_count": 20,
   "id": "925e5672",
   "metadata": {},
   "outputs": [
    {
     "name": "stdout",
     "output_type": "stream",
     "text": [
      "Confusion Matrix: \n",
      " [[355  45]\n",
      " [ 91 123]]\n",
      "**************************************************\n",
      "Accuracy Score: \n",
      " 0.7785016286644951\n",
      "**************************************************\n",
      "Classification Report: \n",
      "               precision    recall  f1-score   support\n",
      "\n",
      "           0       0.80      0.89      0.84       400\n",
      "           1       0.73      0.57      0.64       214\n",
      "\n",
      "    accuracy                           0.78       614\n",
      "   macro avg       0.76      0.73      0.74       614\n",
      "weighted avg       0.77      0.78      0.77       614\n",
      "\n"
     ]
    }
   ],
   "source": [
    "y_pred_train=Logistic_model.predict(x_train)\n",
    "\n",
    "cnf_matrix=confusion_matrix(y_train,y_pred_train)\n",
    "print(\"Confusion Matrix: \\n\",cnf_matrix)\n",
    "print(\"*\"*50)\n",
    "\n",
    "accuracy=accuracy_score(y_train,y_pred_train)\n",
    "print(\"Accuracy Score: \\n\",accuracy)\n",
    "print(\"*\"*50)\n",
    "\n",
    "clf_report=classification_report(y_train,y_pred_train)\n",
    "print(\"Classification Report: \\n\",clf_report)"
   ]
  },
  {
   "cell_type": "code",
   "execution_count": 26,
   "id": "073c063c",
   "metadata": {},
   "outputs": [
    {
     "data": {
      "text/plain": [
       "array([1.9589736 , 0.9589736 , 0.95549457, 0.94066256, 0.93874839,\n",
       "       0.88532716, 0.8841568 , 0.86230633, 0.85640221, 0.8393242 ,\n",
       "       0.83052687, 0.81081357, 0.80988742, 0.80394504, 0.80273672,\n",
       "       0.79006506, 0.78786984, 0.78558323, 0.78367358, 0.77665683,\n",
       "       0.77546963, 0.75057072, 0.74766061, 0.73004781, 0.72859793,\n",
       "       0.72789662, 0.7161662 , 0.71201947, 0.70848015, 0.70359939,\n",
       "       0.69632065, 0.68657092, 0.68148592, 0.67597317, 0.67047509,\n",
       "       0.6609835 , 0.65836455, 0.64997925, 0.64973621, 0.64904243,\n",
       "       0.64701773, 0.64096556, 0.63385968, 0.61426839, 0.61182211,\n",
       "       0.60601841, 0.60507545, 0.6044059 , 0.60410576, 0.60140748,\n",
       "       0.59821551, 0.59531286, 0.59370736, 0.59331913, 0.59167096,\n",
       "       0.58722943, 0.5809904 , 0.56539924, 0.56527512, 0.55505291,\n",
       "       0.55117452, 0.54967136, 0.54393112, 0.53738951, 0.53492997,\n",
       "       0.52991243, 0.5282144 , 0.50286889, 0.48942814, 0.4798985 ,\n",
       "       0.4718267 , 0.46558361, 0.46220792, 0.45813485, 0.45432691,\n",
       "       0.45116256, 0.4489316 , 0.44516766, 0.44460258, 0.4405561 ,\n",
       "       0.44030981, 0.43928818, 0.42644234, 0.42509923, 0.41149281,\n",
       "       0.41104416, 0.40974364, 0.39001673, 0.38350731, 0.381662  ,\n",
       "       0.38024815, 0.37579135, 0.37203107, 0.37122426, 0.35988489,\n",
       "       0.35957681, 0.34702074, 0.34666251, 0.34558615, 0.33895512,\n",
       "       0.33686056, 0.33388465, 0.32108738, 0.31739089, 0.31607672,\n",
       "       0.31523081, 0.31314691, 0.31272532, 0.31050218, 0.3091416 ,\n",
       "       0.30659111, 0.30473958, 0.3023368 , 0.30213887, 0.30145967,\n",
       "       0.30143313, 0.2982865 , 0.29748416, 0.29587043, 0.29423423,\n",
       "       0.29370857, 0.29162259, 0.2858556 , 0.28172661, 0.27975369,\n",
       "       0.2789601 , 0.2771971 , 0.27556482, 0.26819838, 0.26558375,\n",
       "       0.25398731, 0.25339173, 0.25301894, 0.252488  , 0.25095522,\n",
       "       0.25030222, 0.24217468, 0.24178201, 0.2389345 , 0.238532  ,\n",
       "       0.23831635, 0.23762784, 0.23659179, 0.23510951, 0.23274441,\n",
       "       0.23203994, 0.22215654, 0.22046807, 0.21270761, 0.2122581 ,\n",
       "       0.21026169, 0.20959111, 0.1954417 , 0.19313796, 0.19208443,\n",
       "       0.1913008 , 0.18161283, 0.18114559, 0.17693778, 0.1767293 ,\n",
       "       0.17590041, 0.17410023, 0.17128311, 0.17092877, 0.15990335,\n",
       "       0.15972808, 0.14794589, 0.14673684, 0.14351269, 0.14280647,\n",
       "       0.13737009, 0.13632243, 0.13623863, 0.13583103, 0.13119207,\n",
       "       0.13105013, 0.12767511, 0.12715673, 0.12062714, 0.1199936 ,\n",
       "       0.112512  , 0.11230247, 0.08887815, 0.08879173, 0.0514012 ,\n",
       "       0.05060287, 0.01909455, 0.01862699, 0.01454347, 0.01228028,\n",
       "       0.00282029])"
      ]
     },
     "execution_count": 26,
     "metadata": {},
     "output_type": "execute_result"
    }
   ],
   "source": [
    "y_pred_prob=Logistic_model.predict_proba(x_train)\n",
    "\n",
    "y_pred_prob[:,1]\n",
    "\n",
    "\n",
    "fpr,tpr,thresh=roc_curve(y_train,y_pred_prob[:,1])\n",
    "thresh"
   ]
  },
  {
   "cell_type": "code",
   "execution_count": 28,
   "id": "3cd626cf",
   "metadata": {},
   "outputs": [
    {
     "data": {
      "text/plain": [
       "Text(0.5, 1.0, 'Receiver Operating Characteristics (ROC) Curve')"
      ]
     },
     "execution_count": 28,
     "metadata": {},
     "output_type": "execute_result"
    },
    {
     "data": {
      "image/png": "[encoded data removed]",
      "text/plain": [
       "<Figure size 432x288 with 1 Axes>"
      ]
     },
     "metadata": {
      "needs_background": "light"
     },
     "output_type": "display_data"
    }
   ],
   "source": [
    "plt.plot(fpr,tpr)\n",
    "\n",
    "plt.xlabel('False Positive Rate (FPR)')\n",
    "plt.ylabel('True Positive Rate (TPR)')\n",
    "plt.title(\"Receiver Operating Characteristics (ROC) Curve\")"
   ]
  },
  {
   "cell_type": "code",
   "execution_count": 29,
   "id": "2e3a0f80",
   "metadata": {},
   "outputs": [
    {
     "data": {
      "text/plain": [
       "Glucose                     145.000\n",
       "BloodPressure                80.000\n",
       "SkinThickness                46.000\n",
       "Insulin                     130.000\n",
       "BMI                          37.900\n",
       "DiabetesPedigreeFunction      0.637\n",
       "Age                          40.000\n",
       "Name: 663, dtype: float64"
      ]
     },
     "execution_count": 29,
     "metadata": {},
     "output_type": "execute_result"
    }
   ],
   "source": [
    "x_test.iloc[3]"
   ]
  },
  {
   "cell_type": "code",
   "execution_count": 31,
   "id": "a22725b2",
   "metadata": {},
   "outputs": [
    {
     "data": {
      "text/plain": [
       "1"
      ]
     },
     "execution_count": 31,
     "metadata": {},
     "output_type": "execute_result"
    }
   ],
   "source": [
    "Glucose=155.000\n",
    "BloodPressure=88.000\n",
    "SkinThickness=76.000\n",
    "Insulin=120.000\n",
    "BMI=31.900\n",
    "DiabetesPedigreeFunction=0.447\n",
    "Age=32.000\n",
    "\n",
    "\n",
    "test_array=np.array([[Glucose,BloodPressure,SkinThickness,Insulin,BMI,DiabetesPedigreeFunction,Age]])\n",
    "\n",
    "predict_class=Logistic_model.predict(test_array)[0]\n",
    "predict_class"
   ]
  },
  {
   "cell_type": "code",
   "execution_count": 33,
   "id": "940d2ece",
   "metadata": {},
   "outputs": [],
   "source": [
    "import pickle"
   ]
  },
  {
   "cell_type": "code",
   "execution_count": 35,
   "id": "2c74ba60",
   "metadata": {},
   "outputs": [],
   "source": [
    "with open(\"Logistic_model.pkl\",'wb')as f:\n",
    "    pickle.dump(Logistic_model,f)"
   ]
  },
  {
   "cell_type": "code",
   "execution_count": 36,
   "id": "6a55638e",
   "metadata": {},
   "outputs": [
    {
     "data": {
      "text/plain": [
       "['Glucose',\n",
       " 'BloodPressure',\n",
       " 'SkinThickness',\n",
       " 'Insulin',\n",
       " 'BMI',\n",
       " 'DiabetesPedigreeFunction',\n",
       " 'Age']"
      ]
     },
     "execution_count": 36,
     "metadata": {},
     "output_type": "execute_result"
    }
   ],
   "source": [
    "list(x.columns)"
   ]
  },
  {
   "cell_type": "code",
   "execution_count": 37,
   "id": "48f1fcdd",
   "metadata": {},
   "outputs": [],
   "source": [
    "project_data={'columns':list(x.columns)}"
   ]
  },
  {
   "cell_type": "code",
   "execution_count": 39,
   "id": "6bc63b10",
   "metadata": {},
   "outputs": [],
   "source": [
    "import json\n",
    "\n",
    "with open('project_data.json', 'w') as f:\n",
    "    json.dump(project_data ,f)"
   ]
  },
  {
   "cell_type": "code",
   "execution_count": null,
   "id": "f50d3738",
   "metadata": {},
   "outputs": [],
   "source": []
  }
 ],
 "metadata": {
  "kernelspec": {
   "display_name": "Python 3 (ipykernel)",
   "language": "python",
   "name": "python3"
  },
  "language_info": {
   "codemirror_mode": {
    "name": "ipython",
    "version": 3
   },
   "file_extension": ".py",
   "mimetype": "text/x-python",
   "name": "python",
   "nbconvert_exporter": "python",
   "pygments_lexer": "ipython3",
   "version": "3.9.7"
  }
 },
 "nbformat": 4,
 "nbformat_minor": 5
}
